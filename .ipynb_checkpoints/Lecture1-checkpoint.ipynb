{
 "metadata": {
  "name": "",
  "signature": "sha256:9a6c54a49c6bb5877bbf7addb90340763b468edc778b74d273ec86d68ac0926e"
 },
 "nbformat": 3,
 "nbformat_minor": 0,
 "worksheets": [
  {
   "cells": [
    {
     "cell_type": "heading",
     "level": 1,
     "metadata": {},
     "source": [
      "Part 1: Setup + Python"
     ]
    },
    {
     "cell_type": "heading",
     "level": 2,
     "metadata": {},
     "source": [
      "Exercise 1B"
     ]
    },
    {
     "cell_type": "heading",
     "level": 6,
     "metadata": {},
     "source": [
      "Create a list a that contains the numbers from 1 to 100, incremented by one, using the range function"
     ]
    },
    {
     "cell_type": "code",
     "collapsed": false,
     "input": [
      "a = list(range(1,101))\n",
      "print(a)"
     ],
     "language": "python",
     "metadata": {},
     "outputs": [
      {
       "output_type": "stream",
       "stream": "stdout",
       "text": [
        "[1, 2, 3, 4, 5, 6, 7, 8, 9, 10, 11, 12, 13, 14, 15, 16, 17, 18, 19, 20, 21, 22, 23, 24, 25, 26, 27, 28, 29, 30, 31, 32, 33, 34, 35, 36, 37, 38, 39, 40, 41, 42, 43, 44, 45, 46, 47, 48, 49, 50, 51, 52, 53, 54, 55, 56, 57, 58, 59, 60, 61, 62, 63, 64, 65, 66, 67, 68, 69, 70, 71, 72, 73, 74, 75, 76, 77, 78, 79, 80, 81, 82, 83, 84, 85, 86, 87, 88, 89, 90, 91, 92, 93, 94, 95, 96, 97, 98, 99, 100]\n"
       ]
      }
     ],
     "prompt_number": 70
    },
    {
     "cell_type": "heading",
     "level": 6,
     "metadata": {},
     "source": [
      "Show that you understand slicing in Python by extracting a list b with the numbers from 42 to 79 from the list created above"
     ]
    },
    {
     "cell_type": "code",
     "collapsed": false,
     "input": [
      "b = a[41:79]\n",
      "print(b)"
     ],
     "language": "python",
     "metadata": {},
     "outputs": [
      {
       "output_type": "stream",
       "stream": "stdout",
       "text": [
        "[42, 43, 44, 45, 46, 47, 48, 49, 50, 51, 52, 53, 54, 55, 56, 57, 58, 59, 60, 61, 62, 63, 64, 65, 66, 67, 68, 69, 70, 71, 72, 73, 74, 75, 76, 77, 78, 79]\n"
       ]
      }
     ],
     "prompt_number": 71
    },
    {
     "cell_type": "heading",
     "level": 6,
     "metadata": {},
     "source": [
      "Using def, define a function that takes as input a number x and outputs the number multiplied by itself plus two f(x) = x(x+2)"
     ]
    },
    {
     "cell_type": "code",
     "collapsed": false,
     "input": [
      "def example_function(x):\n",
      "    return x * (x + 2)"
     ],
     "language": "python",
     "metadata": {},
     "outputs": [],
     "prompt_number": 72
    },
    {
     "cell_type": "heading",
     "level": 6,
     "metadata": {},
     "source": [
      "Apply this function to every element of the list b using a for loop"
     ]
    },
    {
     "cell_type": "code",
     "collapsed": false,
     "input": [
      "b = [example_function(x) for x in b]\n",
      "print(b)"
     ],
     "language": "python",
     "metadata": {},
     "outputs": [
      {
       "output_type": "stream",
       "stream": "stdout",
       "text": [
        "[1848, 1935, 2024, 2115, 2208, 2303, 2400, 2499, 2600, 2703, 2808, 2915, 3024, 3135, 3248, 3363, 3480, 3599, 3720, 3843, 3968, 4095, 4224, 4355, 4488, 4623, 4760, 4899, 5040, 5183, 5328, 5475, 5624, 5775, 5928, 6083, 6240, 6399]\n"
       ]
      }
     ],
     "prompt_number": 73
    },
    {
     "cell_type": "heading",
     "level": 6,
     "metadata": {},
     "source": [
      "Write the output of your function to a text file with one number per line."
     ]
    },
    {
     "cell_type": "code",
     "collapsed": false,
     "input": [
      "output_file = open('output.txt', 'w')\n",
      "for element in b:\n",
      "    output_file.write(str(element) + '\\n')\n",
      "output_file.close()"
     ],
     "language": "python",
     "metadata": {},
     "outputs": [],
     "prompt_number": 74
    },
    {
     "cell_type": "heading",
     "level": 6,
     "metadata": {},
     "source": [
      "Show that you know about strings typing and understanding everything in the example in http://learnpythonthehardway.org/book/ex6.html"
     ]
    },
    {
     "cell_type": "code",
     "collapsed": false,
     "input": [
      "#10 is put in %d's place (%d -> integer)\n",
      "x = \"There are %d types of people.\" % 10 \n",
      "\n",
      "#simple string assignments\n",
      "binary = \"binary\"\n",
      "do_not = \"don't\"\n",
      "\n",
      "#\"binary\" put in for first and \"do_not\" for second %s's place (%s -> string)\n",
      "y = \"Those who know %s and those who %s.\" % (binary, do_not) \n",
      "\n",
      "#simple printing\n",
      "print (x)\n",
      "print (y)\n",
      "\n",
      "#raw data for variable x is put in %r's place (%r is used for debugging)\n",
      "print (\"I said: %r.\" % x)\n",
      "#value of variable y is put in %s's place\n",
      "print (\"I also said: '%s'.\" % y)\n",
      "\n",
      "#simple assignments of boolean and string with %r embedded \n",
      "hilarious = False\n",
      "joke_evaluation = \"Isn't that joke so funny?! %r\"\n",
      "\n",
      "#value of variable hilarious is put in %r's place\n",
      "print (joke_evaluation % hilarious)\n",
      "\n",
      "#simple assignments and printing of string concatination\n",
      "w = \"This is the left side of...\"\n",
      "e = \"a string with a right side.\"\n",
      "print (w + e)"
     ],
     "language": "python",
     "metadata": {},
     "outputs": [
      {
       "output_type": "stream",
       "stream": "stdout",
       "text": [
        "There are 10 types of people.\n",
        "Those who know binary and those who don't.\n",
        "I said: 'There are 10 types of people.'.\n",
        "I also said: 'Those who know binary and those who don't.'.\n",
        "Isn't that joke so funny?! False\n",
        "This is the left side of...a string with a right side.\n"
       ]
      }
     ],
     "prompt_number": 61
    },
    {
     "cell_type": "heading",
     "level": 1,
     "metadata": {},
     "source": [
      "Part 2: Accessing wikipedia using Python"
     ]
    },
    {
     "cell_type": "heading",
     "level": 2,
     "metadata": {},
     "source": [
      "Exercise 2A"
     ]
    },
    {
     "cell_type": "heading",
     "level": 6,
     "metadata": {},
     "source": [
      "How do you link to another Wikipedia page from within a wiki-page, using the wikimedia markup? Write down a simple example of how links work (in the IPython Notebook markdown)"
     ]
    },
    {
     "cell_type": "markdown",
     "metadata": {},
     "source": [
      "[[LINK]] will go to the given article (on current locale of wikipedia). For example:\n",
      "[[Technical University of Denmark]] links to https://en.wikipedia.org/wiki/Technical_University_of_Denmark"
     ]
    },
    {
     "cell_type": "markdown",
     "metadata": {},
     "source": [
      "Can you create a simple table with the same content as the one below, using wikimedia markup? Write the table in the Notebook markdown."
     ]
    },
    {
     "cell_type": "markdown",
     "metadata": {},
     "source": [
      "{| class=\"wikitable\" style=\"text-align: left;\n",
      "|True Positive\n",
      "|False Positive\n",
      "|-\n",
      "|False Negative\n",
      "|True Negative\n",
      "|}"
     ]
    },
    {
     "cell_type": "heading",
     "level": 2,
     "metadata": {},
     "source": [
      "Exercise 2B"
     ]
    },
    {
     "cell_type": "heading",
     "level": 6,
     "metadata": {},
     "source": [
      " Figure out how to download pages from Wikipedia. Familiarize yourself with the API and learn how to extract the markup.\n",
      " First in a browser: What is the API address that collects the wikimedia markup that generates the page http://en.wikipedia.org/wiki/Batman ?"
     ]
    },
    {
     "cell_type": "markdown",
     "metadata": {},
     "source": [
      "http://en.wikipedia.org/w/api.php?format=txt&action=query&titles=Batman&prop=revisions&rvprop=content"
     ]
    },
    {
     "cell_type": "heading",
     "level": 6,
     "metadata": {},
     "source": [
      "Then using using Python, download the markup, using the module urllib"
     ]
    },
    {
     "cell_type": "code",
     "collapsed": false,
     "input": [
      "import urllib\n",
      "response = urllib.request.urlopen('http://en.wikipedia.org/w/api.php?action=query&titles=Batman&prop=revisions&rvprop=content&format=jsonfm')\n",
      "markup = response.read()"
     ],
     "language": "python",
     "metadata": {},
     "outputs": [],
     "prompt_number": 62
    },
    {
     "cell_type": "heading",
     "level": 6,
     "metadata": {},
     "source": [
      "Write the content to a file called \"batman.txt\" on your hard drive"
     ]
    },
    {
     "cell_type": "code",
     "collapsed": false,
     "input": [
      "output_file = open('batman.txt', 'wb')\n",
      "output_file.write(markup)\n",
      "output_file.close()"
     ],
     "language": "python",
     "metadata": {},
     "outputs": [],
     "prompt_number": 63
    }
   ],
   "metadata": {}
  }
 ]
}