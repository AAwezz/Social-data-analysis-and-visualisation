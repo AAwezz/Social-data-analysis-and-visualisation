{
 "metadata": {
  "name": "",
  "signature": "sha256:384a62dcf32ee9a1b2d9b3a6916a891f3f53cdbbfad3b794d0f3fb5bbe802451"
 },
 "nbformat": 3,
 "nbformat_minor": 0,
 "worksheets": [
  {
   "cells": [
    {
     "cell_type": "heading",
     "level": 1,
     "metadata": {},
     "source": [
      "PART A: download cities location"
     ]
    },
    {
     "cell_type": "heading",
     "level": 2,
     "metadata": {},
     "source": [
      "Exercise A1: Find the list of top 100 cities in USA"
     ]
    },
    {
     "cell_type": "heading",
     "level": 6,
     "metadata": {},
     "source": [
      "Use the Query API to obtain the content of the page http://en.wikipedia.org/wiki/List\\_of\\_United_States\\_cities\\_by\\_population"
     ]
    },
    {
     "cell_type": "code",
     "collapsed": false,
     "input": [
      "import urllib\n",
      "import json\n",
      "\n",
      "#Downloads a wiki page and saves its contents to a file\n",
      "def download_page_and_save_to_file(title, folder=''):\n",
      "    safe_title = urllib.parse.quote(title)\n",
      "    response = urllib.request.urlopen('http://en.wikipedia.org/w/api.php?action=query&titles='+safe_title+'&prop=revisions&rvprop=content&format=json')\n",
      "    markup = response.read()\n",
      "    import os\n",
      "    #path = os.path.join(folder, title)\n",
      "    output_file = open(title, 'wb')\n",
      "    output_file.write(markup)\n",
      "    output_file.close()\n",
      "\n",
      "page_address = 'List_of_United_States_cities_by_population'\n",
      "download_page_and_save_to_file(page_address)"
     ],
     "language": "python",
     "metadata": {},
     "outputs": [],
     "prompt_number": 4
    },
    {
     "cell_type": "heading",
     "level": 6,
     "metadata": {},
     "source": [
      "Describe a regexp to match pagename in links."
     ]
    },
    {
     "cell_type": "markdown",
     "metadata": {},
     "source": [
      "Match a pattern [[word|other_word]] and extract the first word only."
     ]
    },
    {
     "cell_type": "code",
     "collapsed": false,
     "input": [
      "#extract text from json structure\n",
      "def extract_text_from_article(structure):\n",
      "    pageid = list(structure['query']['pages'].keys())[0]\n",
      "    return (structure['query']['pages'][pageid]['revisions'])[0]['*']\n",
      "\n",
      "#extract city names and their coordinates, puts results in a dictionary\n",
      "def extract_city_names_and_coordinates(pagecontents, printing=False, number_to_print=0):\n",
      "    import re\n",
      "    city_regex = '\\[\\[([\\w+\\s,\\|]+?)\\]\\]'\n",
      "    coordinates_regex = u'(\\d{1,3}\\.\\d+)\u00b0[NS]\\s(\\d{1,3}\\.\\d+)\u00b0[WE]'\n",
      "    cities = {}\n",
      "    for element in split_contents:\n",
      "        match_city_name = re.search(city_regex, element)\n",
      "        if match_city_name:\n",
      "            city_name = match_city_name.group(1)\n",
      "            if '|' in city_name:\n",
      "                city_name = city_name.split('|')[1]\n",
      "            match_coordinates = re.compile(coordinates_regex, flags=re.UNICODE)\n",
      "            coordinates_match = re.search(match_coordinates, element)\n",
      "            if coordinates_match:\n",
      "                latitude = float(coordinates_match.group(1))\n",
      "                longitude = -float(coordinates_match.group(2))\n",
      "            cities[city_name] = (latitude, longitude)\n",
      "            if printing and number_to_print > 0:\n",
      "                print (city_name, (latitude, longitude))\n",
      "                number_to_print -= 1\n",
      "    return cities\n",
      "            \n",
      "#prepare page to be parsed\n",
      "import json\n",
      "file_contents = open('List_of_United_States_cities_by_population', 'r')\n",
      "json_contents = json.load(file_contents)\n",
      "text_contents = extract_text_from_article(json_contents)\n",
      "split_contents = text_contents.split('|-')\n",
      "#delete the batch of text until the table\n",
      "del split_contents[0]\n",
      "del split_contents[0]"
     ],
     "language": "python",
     "metadata": {},
     "outputs": [],
     "prompt_number": 1
    },
    {
     "cell_type": "heading",
     "level": 6,
     "metadata": {},
     "source": [
      "Extract the cities locations. Print the first 10 links inside your Notebook."
     ]
    },
    {
     "cell_type": "code",
     "collapsed": false,
     "input": [
      "cities = extract_city_names_and_coordinates(split_contents, True, 10)"
     ],
     "language": "python",
     "metadata": {},
     "outputs": [
      {
       "output_type": "stream",
       "stream": "stdout",
       "text": [
        "New York (40.6643, -73.9385)\n",
        "Los Angeles (34.0194, -118.4108)\n",
        "Chicago (41.8376, -87.6818)\n",
        "Houston (29.7805, -95.3863)\n",
        "Philadelphia (40.0094, -75.1333)\n",
        "Phoenix (33.5722, -112.088)\n",
        "San Antonio (29.4724, -98.5251)\n",
        "San Diego (32.8153, -117.135)\n",
        "Dallas (32.7757, -96.7967)\n",
        "San Jose (37.2969, -121.8193)\n"
       ]
      }
     ],
     "prompt_number": 2
    },
    {
     "cell_type": "heading",
     "level": 6,
     "metadata": {},
     "source": [
      "How many cities did you manage to parse?"
     ]
    },
    {
     "cell_type": "code",
     "collapsed": false,
     "input": [
      "len(cities)"
     ],
     "language": "python",
     "metadata": {},
     "outputs": [
      {
       "metadata": {},
       "output_type": "pyout",
       "prompt_number": 3,
       "text": [
        "336"
       ]
      }
     ],
     "prompt_number": 3
    },
    {
     "cell_type": "heading",
     "level": 6,
     "metadata": {},
     "source": [
      "Plot the location of all cities using matplotlib plot function."
     ]
    },
    {
     "cell_type": "code",
     "collapsed": false,
     "input": [
      "import matplotlib.pyplot as plt\n",
      "latitudes, longitudes = map(list, zip(*cities.values()))\n",
      "plt.scatter(longitudes, latitudes)\n",
      "plt.title('City coordinates', size=20)\n",
      "plt.xlabel('Latitude', size=15)\n",
      "plt.ylabel('Longitude', size=15)\n",
      "plt.grid(True)\n",
      "plt.show()"
     ],
     "language": "python",
     "metadata": {},
     "outputs": [
      {
       "metadata": {},
       "output_type": "display_data",
       "png": "[encoded data removed]",
       "text": [
        "<matplotlib.figure.Figure at 0x7f2d50352b38>"
       ]
      }
     ],
     "prompt_number": 4
    },
    {
     "cell_type": "heading",
     "level": 6,
     "metadata": {},
     "source": [
      "Does the shape make sense?"
     ]
    },
    {
     "cell_type": "markdown",
     "metadata": {},
     "source": [
      "Yes. The shape clearly resembles a map of United States."
     ]
    },
    {
     "cell_type": "heading",
     "level": 1,
     "metadata": {},
     "source": [
      "Part B: visualize the superheroes cities"
     ]
    },
    {
     "cell_type": "heading",
     "level": 2,
     "metadata": {},
     "source": [
      "Exercise B1: Match superheroes with cities"
     ]
    },
    {
     "cell_type": "heading",
     "level": 6,
     "metadata": {},
     "source": [
      "For each superhero page, extract all the links"
     ]
    },
    {
     "cell_type": "code",
     "collapsed": false,
     "input": [
      "import re\n",
      "#cleans up a filename\n",
      "def clean_filename(name):\n",
      "        name = name.replace(' (comics)', '')\n",
      "        name = name.replace(' (Marvel Comics)', '')\n",
      "        return name\n",
      "\n",
      "#populates dictionary holding the characters names and pagetext\n",
      "def populate_hero_dictionary(locations):\n",
      "    import os\n",
      "    import json\n",
      "    hero_dict = dict()\n",
      "    for location in locations:\n",
      "        path = os.path.join(location)\n",
      "        files = os.listdir(path)\n",
      "        for file_name in files:\n",
      "            file_contents = open(path + '/' + file_name, 'r')\n",
      "            json_contents = json.load(file_contents)\n",
      "            file_name = clean_filename(file_name)\n",
      "            if file_name not in hero_dict:\n",
      "                hero_dict[file_name] = json_contents\n",
      "    return hero_dict\n",
      "\n",
      "#Page is rejected if it is a redirect, a stub or very short\n",
      "def is_acceptable(page):\n",
      "    return not (page.startswith('#REDIRECT') or '{{Marvel-villain-stub}}' in page or len(page) < 1500)\n",
      "\n",
      "#Discard unacceptable articles and clean up data\n",
      "def clean_up_data():\n",
      "    clean_data = {}\n",
      "    for hero in all_heroes.keys():\n",
      "        data = extract_text_from_article(all_heroes[hero])\n",
      "        if is_acceptable(data):\n",
      "            clean_data[hero] = data\n",
      "    return clean_data\n",
      "\n",
      "#Finds links in articles\n",
      "def find_links(data):\n",
      "    link_regex = '\\[\\[(.+?)\\]\\]'\n",
      "    found_links = []\n",
      "    for article in data.values():\n",
      "        match = re.findall(link_regex, article)\n",
      "        if match:\n",
      "            found_links += match\n",
      "    return found_links\n",
      "\n",
      "#folders with text files\n",
      "path1 = 'heroes'\n",
      "path2 = 'villains'\n",
      "\n",
      "#Dictionary for all heroes names and the text of their pages; lists of names for the heroes of each category\n",
      "all_heroes = populate_hero_dictionary([path1, path2])\n",
      "\n",
      "#Dictionary with unacceptable articles discarded and only relevant part of data (article text) extracted\n",
      "clean_data = clean_up_data()\n",
      "\n",
      "#List of all found links\n",
      "links_in_hero_articles = find_links(clean_data)"
     ],
     "language": "python",
     "metadata": {},
     "outputs": [],
     "prompt_number": 5
    },
    {
     "cell_type": "heading",
     "level": 6,
     "metadata": {},
     "source": [
      "For each of the cities, count how many times the superheroes link to them."
     ]
    },
    {
     "cell_type": "code",
     "collapsed": false,
     "input": [
      "#List of all found city links in hero articles\n",
      "city_links_in_hero_articles = [x for x in links_in_hero_articles if x in cities.keys()]\n",
      "\n",
      "#Dictionary mapping city to number of occurrences in hero articles\n",
      "counted_city_links = dict((city, city_links_in_hero_articles.count(city)) for city in city_links_in_hero_articles)"
     ],
     "language": "python",
     "metadata": {},
     "outputs": [],
     "prompt_number": 6
    },
    {
     "cell_type": "heading",
     "level": 6,
     "metadata": {},
     "source": [
      "What are the counts for all the cities?"
     ]
    },
    {
     "cell_type": "code",
     "collapsed": false,
     "input": [
      "counted_city_links"
     ],
     "language": "python",
     "metadata": {},
     "outputs": [
      {
       "metadata": {},
       "output_type": "pyout",
       "prompt_number": 7,
       "text": [
        "{'Cleveland': 2,\n",
        " 'Baltimore': 1,\n",
        " 'Philadelphia': 9,\n",
        " 'Dallas': 3,\n",
        " 'Spokane': 1,\n",
        " 'Los Angeles': 31,\n",
        " 'Brooklyn': 14,\n",
        " 'Athens': 1,\n",
        " 'Detroit': 5,\n",
        " 'Cincinnati': 1,\n",
        " 'Houston': 5,\n",
        " 'Ontario': 1,\n",
        " 'Milwaukee': 2,\n",
        " 'Albuquerque': 1,\n",
        " 'Manchester': 4,\n",
        " 'Miami': 4,\n",
        " 'Birmingham': 2,\n",
        " 'Pittsburgh': 4,\n",
        " 'Chicago': 17,\n",
        " 'Yonkers': 1,\n",
        " 'Vancouver': 1,\n",
        " 'Hollywood': 6,\n",
        " 'Florida': 10,\n",
        " 'New York': 47,\n",
        " 'Missouri': 2,\n",
        " 'Boston': 6,\n",
        " 'North Carolina': 4,\n",
        " 'Denver': 2,\n",
        " 'New Orleans': 13,\n",
        " 'Boise': 1,\n",
        " 'San Francisco': 40,\n",
        " 'Sacramento': 1,\n",
        " 'Niagara Falls': 1}"
       ]
      }
     ],
     "prompt_number": 7
    },
    {
     "cell_type": "heading",
     "level": 6,
     "metadata": {},
     "source": [
      "Report your results with a bar chart"
     ]
    },
    {
     "cell_type": "code",
     "collapsed": false,
     "input": [
      "import matplotlib.pyplot as plt\n",
      "city_mention_counts = counted_city_links.values()\n",
      "city_names = list(counted_city_links.keys())\n",
      "plt.figure(figsize=(15, 10), dpi=80)\n",
      "ax = plt.subplot()\n",
      "ax.bar(range(len(city_mention_counts)), city_mention_counts, 0.5, color=\"blue\")\n",
      "ax.set_ylabel('Mentions', size=15)\n",
      "ax.set_xlabel('City', size=15)\n",
      "ax.set_title('Number of city mentions in articles', size=20)\n",
      "ax.set_xticks(range(len(city_names)))\n",
      "ax.set_xticklabels(city_names, rotation='vertical')\n",
      "plt.grid(True)\n",
      "plt.show()"
     ],
     "language": "python",
     "metadata": {},
     "outputs": [
      {
       "metadata": {},
       "output_type": "display_data",
       "png": "[encoded data removed]",
       "text": [
        "<matplotlib.figure.Figure at 0x7f2d5028ef98>"
       ]
      }
     ],
     "prompt_number": 8
    },
    {
     "cell_type": "heading",
     "level": 2,
     "metadata": {},
     "source": [
      "Exercise B2: Place the results on a map"
     ]
    },
    {
     "cell_type": "heading",
     "level": 6,
     "metadata": {},
     "source": [
      "Plot a map using Basemap."
     ]
    },
    {
     "cell_type": "code",
     "collapsed": false,
     "input": [
      "from mpl_toolkits.basemap import Basemap"
     ],
     "language": "python",
     "metadata": {},
     "outputs": [
      {
       "ename": "ImportError",
       "evalue": "No module named 'Basemap'",
       "output_type": "pyerr",
       "traceback": [
        "\u001b[1;31m---------------------------------------------------------------------------\u001b[0m\n\u001b[1;31mImportError\u001b[0m                               Traceback (most recent call last)",
        "\u001b[1;32m<ipython-input-12-0fcbf14e7ede>\u001b[0m in \u001b[0;36m<module>\u001b[1;34m()\u001b[0m\n\u001b[1;32m----> 1\u001b[1;33m \u001b[1;32mimport\u001b[0m \u001b[0mBasemap\u001b[0m\u001b[1;33m\u001b[0m\u001b[0m\n\u001b[0m",
        "\u001b[1;31mImportError\u001b[0m: No module named 'Basemap'"
       ]
      }
     ],
     "prompt_number": 12
    },
    {
     "cell_type": "heading",
     "level": 6,
     "metadata": {},
     "source": [
      "Change the map boundaries to the USA using Basemap(projection='merc', lat_0 = 57, lon_0 = -135, resolution = 'h', area_thresh = 0.1, llcrnrlon=-133.86, llcrnrlat=11.35, urcrnrlon=-56.69, urcrnrlat=50.68). Plot the empty USA map"
     ]
    },
    {
     "cell_type": "code",
     "collapsed": false,
     "input": [],
     "language": "python",
     "metadata": {},
     "outputs": []
    },
    {
     "cell_type": "heading",
     "level": 6,
     "metadata": {},
     "source": [
      "Visualize all the city-locations you found in Exercise A on a new USA map using the matplotlib plot method"
     ]
    },
    {
     "cell_type": "code",
     "collapsed": false,
     "input": [],
     "language": "python",
     "metadata": {},
     "outputs": []
    },
    {
     "cell_type": "heading",
     "level": 6,
     "metadata": {},
     "source": [
      "Visualize only the city-locations that were mentioned in superhero pages that you found in Exercise B1 (again using the matplotlib plot method)."
     ]
    },
    {
     "cell_type": "code",
     "collapsed": false,
     "input": [],
     "language": "python",
     "metadata": {},
     "outputs": []
    },
    {
     "cell_type": "heading",
     "level": 6,
     "metadata": {},
     "source": [
      "Do you see a pattern in the spatial distribution?"
     ]
    },
    {
     "cell_type": "code",
     "collapsed": false,
     "input": [],
     "language": "python",
     "metadata": {},
     "outputs": []
    },
    {
     "cell_type": "heading",
     "level": 6,
     "metadata": {},
     "source": [
      "Visualize only the cities locations that were mentioned in the superheroes pages using the matplotlib hexbin method as follows: hexbin(x, y, gridsize=40, bins='log', cmap='YlOrRd', edgecolors='none', alpha=0.75)."
     ]
    },
    {
     "cell_type": "code",
     "collapsed": false,
     "input": [],
     "language": "python",
     "metadata": {},
     "outputs": []
    },
    {
     "cell_type": "heading",
     "level": 6,
     "metadata": {},
     "source": [
      "Do you see a different pattern compared to previously?"
     ]
    },
    {
     "cell_type": "code",
     "collapsed": false,
     "input": [],
     "language": "python",
     "metadata": {},
     "outputs": []
    },
    {
     "cell_type": "heading",
     "level": 6,
     "metadata": {},
     "source": [
      "Visualize only the cities locations that were mentioned in the superhero pages using the plot method once again. This time, however, use the markersize parameter to make each dot proportional to the square root of the count for each city."
     ]
    },
    {
     "cell_type": "code",
     "collapsed": false,
     "input": [],
     "language": "python",
     "metadata": {},
     "outputs": []
    },
    {
     "cell_type": "heading",
     "level": 6,
     "metadata": {},
     "source": [
      "Does this map provides different information than the previous ones?"
     ]
    },
    {
     "cell_type": "code",
     "collapsed": false,
     "input": [],
     "language": "python",
     "metadata": {},
     "outputs": []
    },
    {
     "cell_type": "heading",
     "level": 6,
     "metadata": {},
     "source": [
      "Why do you think we recommend scaling by the square root?"
     ]
    },
    {
     "cell_type": "code",
     "collapsed": false,
     "input": [],
     "language": "python",
     "metadata": {},
     "outputs": []
    }
   ],
   "metadata": {}
  }
 ]
}