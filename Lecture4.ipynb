{
 "metadata": {
  "name": "",
  "signature": "sha256:e963fe827693d01044106e3da77641288f6c5c42086e9e39d088436464f9ecfc"
 },
 "nbformat": 3,
 "nbformat_minor": 0,
 "worksheets": []
}