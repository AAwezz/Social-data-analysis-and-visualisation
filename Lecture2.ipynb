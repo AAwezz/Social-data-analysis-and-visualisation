{
 "metadata": {
  "name": "",
  "signature": "sha256:398b4c632be48ec77b69cd87b88f25f8c13646be3f01be1ace3c464865712a21"
 },
 "nbformat": 3,
 "nbformat_minor": 0,
 "worksheets": [
  {
   "cells": [
    {
     "cell_type": "heading",
     "level": 1,
     "metadata": {},
     "source": [
      "Part A: Download Marvel Characters from Wikipedia"
     ]
    },
    {
     "cell_type": "heading",
     "level": 2,
     "metadata": {},
     "source": [
      "Exercise A1"
     ]
    },
    {
     "cell_type": "heading",
     "level": 6,
     "metadata": {},
     "source": [
      "What is a category on Wikipedia? Explain in a few words the usage and role of the main parameters. Which parameters will you need to download the full list?"
     ]
    },
    {
     "cell_type": "markdown",
     "metadata": {},
     "source": [
      "A category lists pages belonging to it. The API allows to download this list. Main parameters include: cmtitle, for the name of the category, cmsort and cmdir for sorting order/direction and cmlimit for number of pages from category to list. Setting limit to 5000 (max. for bots) will download all (or, at least, as many as possible results). Unfortunately API sees our request as real, so limit is 500. The category pages have to be downloaded over a few queries, using &cmstartsortkeyprefix=XXX in the request."
     ]
    },
    {
     "cell_type": "heading",
     "level": 6,
     "metadata": {},
     "source": [
      "Use the API to obtain the list of superheroes. Print the first 10 results"
     ]
    },
    {
     "cell_type": "code",
     "collapsed": false,
     "input": [
      "import urllib\n",
      "import json\n",
      "\n",
      "#Make request for category members, save data to file and return as dictionary datastructure\n",
      "def wiki_to_json_dict(url):\n",
      "    request = urllib.request.urlopen(url)\n",
      "    markup = request.read()\n",
      "    output_file = open('data.json', 'wb')\n",
      "    output_file.write(markup)\n",
      "    output_file.close()\n",
      "    json_data = open('data.json', 'r')\n",
      "    data = json.load(json_data)\n",
      "    json_data.close()\n",
      "    return data\n",
      "\n",
      "#Take category dictionary and return list of dictionaries with each element\n",
      "def get_category_members(response_dict):\n",
      "    return response_dict['query']['categorymembers']\n",
      "\n",
      "#Scrap the relevant category and put data into appropriate datastructure\n",
      "address = 'http://en.wikipedia.org/w/api.php?action=query&list=categorymembers&cmtitle=Category:Marvel_Comics_superheroes&cmlimit=5000&format=json'\n",
      "response = wiki_to_json_dict(address)\n",
      "category_members = get_category_members(response)\n",
      "\n",
      "#Print first 10 results in superheroes category\n",
      "for element in category_members[0:10]:\n",
      "    print (element)"
     ],
     "language": "python",
     "metadata": {},
     "outputs": [
      {
       "output_type": "stream",
       "stream": "stdout",
       "text": [
        "{'pageid': 2388262, 'ns': 0, 'title': 'Abigail Brand'}\n",
        "{'pageid': 707597, 'ns': 0, 'title': 'Abyss (comics)'}\n",
        "{'pageid': 3265999, 'ns': 0, 'title': 'Access (comics)'}\n",
        "{'pageid': 2994013, 'ns': 0, 'title': 'Adam X the X-Treme'}\n",
        "{'pageid': 26201432, 'ns': 0, 'title': 'Adept (comics)'}\n",
        "{'pageid': 3819553, 'ns': 0, 'title': 'Aegis (comics)'}\n",
        "{'pageid': 2826664, 'ns': 0, 'title': 'Agamotto'}\n",
        "{'pageid': 5026758, 'ns': 0, 'title': 'Agent (comics)'}\n",
        "{'pageid': 407707, 'ns': 0, 'title': 'Agent X (Marvel Comics)'}\n",
        "{'pageid': 5181968, 'ns': 0, 'title': 'El Aguila'}\n"
       ]
      }
     ],
     "prompt_number": 83
    },
    {
     "cell_type": "heading",
     "level": 6,
     "metadata": {},
     "source": [
      "Extract the Wikipedia page title for each Marvel character from the json structure you\u2019ve just downloaded."
     ]
    },
    {
     "cell_type": "code",
     "collapsed": false,
     "input": [
      "#Take element dictionary and return the title only\n",
      "def extract_category_member_title(el):\n",
      "    return el['title']\n",
      "\n",
      "#Print first 10 names in superheroes category\n",
      "for element in category_members[0:10]:\n",
      "    print (extract_category_member_title(element))"
     ],
     "language": "python",
     "metadata": {},
     "outputs": [
      {
       "output_type": "stream",
       "stream": "stdout",
       "text": [
        "Abigail Brand\n",
        "Abyss (comics)\n",
        "Access (comics)\n",
        "Adam X the X-Treme\n",
        "Adept (comics)\n",
        "Aegis (comics)\n",
        "Agamotto\n",
        "Agent (comics)\n",
        "Agent X (Marvel Comics)\n",
        "El Aguila\n"
       ]
      }
     ],
     "prompt_number": 51
    },
    {
     "cell_type": "heading",
     "level": 6,
     "metadata": {},
     "source": [
      "To show that you understand json, try to create a Python list consisting of two dictionaries (you choose the content) and export to json."
     ]
    },
    {
     "cell_type": "code",
     "collapsed": false,
     "input": [
      "#Writes datastructure to json file\n",
      "def write_json(data, filename):\n",
      "    json_dump = json.dumps(data, sort_keys=True, indent=4, separators=(',', ': '))\n",
      "    json_file = open(filename, 'w')\n",
      "    json_file.write(json_dump)\n",
      "    json_file.close()\n",
      "\n",
      "dictionary1 = {'02806' : 'Social data analysis and visualisation', \n",
      "               '02220' : 'Distributed systems',\n",
      "               '02241' : 'Robust Software Systems',\n",
      "               '02265' : 'Advanced Topics in Software Engineering',\n",
      "               '02291' : 'System integration'}\n",
      "dictionary2 = {'Denmark' : 'Copenhagen',\n",
      "               'Germany' : 'Berlin',\n",
      "               'England' : 'London'}\n",
      "list_of_dictionaries = [dictionary1, dictionary2]\n",
      "write_json(list_of_dictionaries, 'data_example.json')"
     ],
     "language": "python",
     "metadata": {},
     "outputs": [],
     "prompt_number": 62
    },
    {
     "cell_type": "heading",
     "level": 2,
     "metadata": {},
     "source": [
      "Exercise A2"
     ]
    },
    {
     "cell_type": "heading",
     "level": 6,
     "metadata": {},
     "source": [
      "Download each character\u2019s wiki page and save to your own computer"
     ]
    },
    {
     "cell_type": "code",
     "collapsed": false,
     "input": [
      "#Downloads a wiki page and saves its contents to a file\n",
      "def download_page_and_save_to_file(title):\n",
      "    safe_title = urllib.parse.quote(title)\n",
      "    response = urllib.request.urlopen('http://en.wikipedia.org/w/api.php?action=query&titles='+safe_title+'&prop=revisions&rvprop=content&format=json')\n",
      "    markup = str(response.read())\n",
      "    import codecs\n",
      "    import os\n",
      "    path = os.path.join('heroes', title)\n",
      "    output_file = codecs.open(path, 'w', 'utf-8')\n",
      "    output_file.write(markup)\n",
      "    output_file.close()\n",
      "\n",
      "for element in category_members:\n",
      "    title = extract_category_member_title(element)\n",
      "    download_page_and_save_to_file(title)"
     ],
     "language": "python",
     "metadata": {},
     "outputs": [],
     "prompt_number": 80
    },
    {
     "cell_type": "heading",
     "level": 2,
     "metadata": {},
     "source": [
      "Exercise A3"
     ]
    },
    {
     "cell_type": "heading",
     "level": 6,
     "metadata": {},
     "source": [
      "Now explain in your own words: what are regular expressions?"
     ]
    },
    {
     "cell_type": "markdown",
     "metadata": {},
     "source": [
      "Language used for pattern matching. A sequence of characters is used to compare against in a text and find matching excerpts."
     ]
    },
    {
     "cell_type": "heading",
     "level": 6,
     "metadata": {},
     "source": [
      "Provide an example of a regex to match 4 digits numbers"
     ]
    },
    {
     "cell_type": "markdown",
     "metadata": {},
     "source": [
      "\\d{4}"
     ]
    },
    {
     "cell_type": "heading",
     "level": 6,
     "metadata": {},
     "source": [
      "Provide an example of a regex to match words starting with super"
     ]
    },
    {
     "cell_type": "markdown",
     "metadata": {},
     "source": [
      "^super\\S*"
     ]
    },
    {
     "cell_type": "heading",
     "level": 6,
     "metadata": {},
     "source": [
      "Provide an example of a regex to match words enclosed between << and >>"
     ]
    },
    {
     "cell_type": "markdown",
     "metadata": {},
     "source": [
      "<<(\\S*)>>"
     ]
    },
    {
     "cell_type": "heading",
     "level": 1,
     "metadata": {},
     "source": [
      "Part B. Visualization"
     ]
    },
    {
     "cell_type": "heading",
     "level": 2,
     "metadata": {},
     "source": [
      "Exercise B1"
     ]
    },
    {
     "cell_type": "heading",
     "level": 6,
     "metadata": {},
     "source": [
      "Generate a few plots (you can use any data): histogram, scatterplot, barchart"
     ]
    },
    {
     "cell_type": "code",
     "collapsed": false,
     "input": [
      "africa = [18.8, 19.7, 15.5, 13.4, 10.9, 8.8, 8.1, 8.8, 12.8, 14.5, 14.8, 15.2, 19.8, 23.7]\n",
      "europe = [18.3, 19.1, 18.3, 20.6, 20.8, 21.9, 24.7, 21.7, 12.2, 10.9, 10.7, 10.5, 7.0, 5.3]\n",
      "year = [1500, 1600, 1700, 1750, 1800, 1850, 1900, 1950, 1999, 2008, 2010, 2012, 2050, 2150]\n",
      "\n",
      "import matplotlib.pyplot as plt\n",
      "from numpy.random import normal\n",
      "gaussian_numbers = normal(size=1000)\n",
      "plt.hist(gaussian_numbers)\n",
      "plt.title(\"Gaussian Histogram\")\n",
      "plt.xlabel(\"Value\")\n",
      "plt.ylabel(\"Frequency\")\n",
      "plt.show()"
     ],
     "language": "python",
     "metadata": {},
     "outputs": [
      {
       "metadata": {},
       "output_type": "display_data",
       "png": "[encoded data removed]",
       "text": [
        "<matplotlib.figure.Figure at 0x7f78f24dbe10>"
       ]
      }
     ],
     "prompt_number": 3
    },
    {
     "cell_type": "code",
     "collapsed": false,
     "input": [
      "fig, ax = plt.subplots()\n",
      "ax.scatter(np.linspace(-1, 1, 50), np.random.randn(50))\n",
      "plt.show()"
     ],
     "language": "python",
     "metadata": {},
     "outputs": [
      {
       "metadata": {},
       "output_type": "display_data",
       "png": "[encoded data removed]",
       "text": [
        "<matplotlib.figure.Figure at 0x7f78f2fd1470>"
       ]
      }
     ],
     "prompt_number": 4
    },
    {
     "cell_type": "code",
     "collapsed": false,
     "input": [
      "y = [3, 10, 7, 5, 3, 4.5, 6, 8.1]\n",
      "N = len(y)\n",
      "x = range(N)\n",
      "width = 1/1.5\n",
      "plt.bar(x, y, width, color=\"blue\")\n",
      "plt.show()"
     ],
     "language": "python",
     "metadata": {},
     "outputs": [
      {
       "metadata": {},
       "output_type": "display_data",
       "png": "[encoded data removed]",
       "text": [
        "<matplotlib.figure.Figure at 0x7f78f2393fd0>"
       ]
      }
     ],
     "prompt_number": 5
    },
    {
     "cell_type": "heading",
     "level": 2,
     "metadata": {},
     "source": [
      "Exercise B2"
     ]
    },
    {
     "cell_type": "heading",
     "level": 6,
     "metadata": {},
     "source": [
      "Count the length of the page (in characters) for each superhero, and visualize this distribution using an histogram and a cumulative density function."
     ]
    },
    {
     "cell_type": "code",
     "collapsed": false,
     "input": [
      "import os\n",
      "import operator\n",
      "\n",
      "path = os.path.join('heroes')\n",
      "files = os.listdir(path)\n",
      "lengths = dict()\n",
      "for file_element in files:\n",
      "    f = open(path + '/' + file_element).read()\n",
      "    lengths[file_element] = len(f)\n",
      "sorted_lengths = sorted(lengths.items(), key=operator.itemgetter(1))\n",
      "names_list, lengths_list = map(list,zip(*sorted_lengths))\n",
      "plt.hist(lengths_list)\n",
      "plt.grid(True)\n",
      "plt.title(\"Histogram for length of heroes articles\")\n",
      "plt.xlabel(\"Length\", size=20)\n",
      "plt.ylabel(\"Frequency\", size=20)\n",
      "plt.show()"
     ],
     "language": "python",
     "metadata": {},
     "outputs": [
      {
       "metadata": {},
       "output_type": "display_data",
       "png": "[encoded data removed]",
       "text": [
        "<matplotlib.figure.Figure at 0x7f78f22e9828>"
       ]
      }
     ],
     "prompt_number": 6
    },
    {
     "cell_type": "code",
     "collapsed": false,
     "input": [
      "plt.hist(lengths_list, 50, histtype='step', cumulative=True)\n",
      "plt.title(\"Cumulative distribution for length of heroes articles\")\n",
      "plt.xlabel(\"Length\", size=20)\n",
      "plt.ylabel(\"Frequency\", size=20)\n",
      "plt.show()"
     ],
     "language": "python",
     "metadata": {},
     "outputs": [
      {
       "metadata": {},
       "output_type": "display_data",
       "png": "[encoded data removed]",
       "text": [
        "<matplotlib.figure.Figure at 0x7f78f2300a58>"
       ]
      }
     ],
     "prompt_number": 7
    },
    {
     "cell_type": "code",
     "collapsed": false,
     "input": [
      "plt.hist(lengths_list, 50, normed=1, histtype='step', cumulative=True)\n",
      "plt.title(\"Cumulative distribution for length of heroes articles, normalized\")\n",
      "plt.xlabel(\"Length\", size=20)\n",
      "plt.ylabel(\"Frequency\", size=20)\n",
      "plt.show()"
     ],
     "language": "python",
     "metadata": {},
     "outputs": [
      {
       "metadata": {},
       "output_type": "display_data",
       "png": "[encoded data removed]",
       "text": [
        "<matplotlib.figure.Figure at 0x7f78f23e3b00>"
       ]
      }
     ],
     "prompt_number": 8
    },
    {
     "cell_type": "markdown",
     "metadata": {},
     "source": [
      "The plots show histogram and cumulative distribution for the lengths of articles about the superheroes. It can be clearly seen that most articles are relatively short - ~90% are shorter than 40.000 characters. ~80% are shorter than 20.000 characters. There are some above that, with outliers at almost 100.000 characters. Most typical articles are around less than 10.000 characters long."
     ]
    },
    {
     "cell_type": "heading",
     "level": 6,
     "metadata": {},
     "source": [
      "Find the 10 superheroes with longest pages, and visualize them using a bar chart."
     ]
    },
    {
     "cell_type": "code",
     "collapsed": false,
     "input": [
      "number_of_heroes = len(lengths_list)\n",
      "top10_lengths = lengths_list[-10:]\n",
      "top10_names = names_list[-10:]\n",
      "top10_names_cleaned = []\n",
      "for element in top10_names:\n",
      "    element = element.replace(' (comics)', '')\n",
      "    element = element.replace('.json', '')\n",
      "    element = element.replace(' (Marvel Comics)', '')\n",
      "    top10_names_cleaned.append(element)\n",
      "print (top10_lengths)\n",
      "print (top10_names_cleaned)"
     ],
     "language": "python",
     "metadata": {},
     "outputs": [
      {
       "output_type": "stream",
       "stream": "stdout",
       "text": [
        "[76814, 78118, 81084, 81239, 82709, 84890, 90026, 91573, 96583, 98075]\n",
        "['Black Panther', 'Namor', 'Sabretooth', 'Cyclops', 'Spider-Man', 'Wolverine (character)', 'Thor', 'Captain America', 'Iron Man', 'Daredevil']\n"
       ]
      }
     ],
     "prompt_number": 9
    },
    {
     "cell_type": "code",
     "collapsed": false,
     "input": [
      "ax = plt.subplot()\n",
      "ax.bar(range(10), top10_lengths, 0.25, color=\"blue\")\n",
      "ax.set_ylabel('Length')\n",
      "ax.set_xlabel('Name')\n",
      "ax.set_title('Top 10 lengths')\n",
      "ax.set_xticks(range(10))\n",
      "ax.set_xticklabels(top10_names_cleaned, rotation='vertical')\n",
      "plt.grid(True)\n",
      "plt.show()"
     ],
     "language": "python",
     "metadata": {},
     "outputs": [
      {
       "metadata": {},
       "output_type": "display_data",
       "png": "[encoded data removed]",
       "text": [
        "<matplotlib.figure.Figure at 0x7f78f2236b70>"
       ]
      }
     ],
     "prompt_number": 11
    },
    {
     "cell_type": "markdown",
     "metadata": {},
     "source": [
      "The top 10 lengthy articles aer all longer than 65.000 characters. The longest one is nearly 100.000 characters long - 50% longer than the tenth one. Interestingly, only one article is in the 80-thousands. Three of the ten are over 90.000 long, while most are in the 70-thousands."
     ]
    },
    {
     "cell_type": "heading",
     "level": 2,
     "metadata": {},
     "source": [
      "Exercise B3"
     ]
    },
    {
     "cell_type": "heading",
     "level": 6,
     "metadata": {},
     "source": [
      "Before looking at the data, which relation do you expect to find, if any?"
     ]
    },
    {
     "cell_type": "markdown",
     "metadata": {},
     "source": [
      "Expect to find a relation between article total length and the infobox length. The longer the article, the longer the infobox might be."
     ]
    },
    {
     "cell_type": "heading",
     "level": 6,
     "metadata": {},
     "source": [
      "Write a regex to match the infobox text."
     ]
    },
    {
     "cell_type": "markdown",
     "metadata": {},
     "source": [
      "{{Superherobox(.+?)}}"
     ]
    },
    {
     "cell_type": "heading",
     "level": 6,
     "metadata": {},
     "source": [
      "Some pages will not have any infobox. How do you deal with this?"
     ]
    },
    {
     "cell_type": "markdown",
     "metadata": {},
     "source": [
      "Skip the superhero and do not indclude it in the plot."
     ]
    },
    {
     "cell_type": "heading",
     "level": 6,
     "metadata": {},
     "source": [
      "Plot the length of pages versus length of infoboxes."
     ]
    },
    {
     "cell_type": "code",
     "collapsed": false,
     "input": [
      "import os\n",
      "import operator\n",
      "import re\n",
      "\n",
      "path = os.path.join('heroes')\n",
      "files = os.listdir(path)\n",
      "lengths = dict()\n",
      "for file_element in files:\n",
      "    f = open(path + '/' + file_element).read()\n",
      "    match = re.search('{{Superherobox(.+?)}}', f)\n",
      "    if match:\n",
      "        info = match.group(0)\n",
      "        file_element = file_element.replace(' (comics)', '')\n",
      "        file_element = file_element.replace('.json', '')\n",
      "        file_element = file_element.replace(' (Marvel Comics)', '')\n",
      "        lengths[file_element] = (len(f), len(info))\n",
      "names_list = list(lengths.keys())\n",
      "lengths_list, infobox_lengths_list = map(list,zip(*lengths.values()))\n",
      "\n",
      "plt.scatter(lengths_list, infobox_lengths_list, alpha=0.5)\n",
      "plt.title(\"Infobox length against article length\")\n",
      "plt.xlabel(\"Article length\", size=20)\n",
      "plt.ylabel(\"Infobox length\", size=20)\n",
      "plt.xlim(0, 70000)\n",
      "plt.ylim(0, 2000)\n",
      "plt.grid(True)\n",
      "plt.show()"
     ],
     "language": "python",
     "metadata": {},
     "outputs": [
      {
       "metadata": {},
       "output_type": "display_data",
       "png": "[encoded data removed]",
       "text": [
        "<matplotlib.figure.Figure at 0x7f862ff12198>"
       ]
      }
     ],
     "prompt_number": 8
    },
    {
     "cell_type": "markdown",
     "metadata": {},
     "source": [
      "Initial guess was not correct. The length of infoboxes seems to be fairly consistently between around 500 and 1000 characters long, regardless of article length. There are a few outliers, but this holds true for most cases."
     ]
    },
    {
     "cell_type": "heading",
     "level": 2,
     "metadata": {},
     "source": [
      "Exercise B4"
     ]
    },
    {
     "cell_type": "heading",
     "level": 6,
     "metadata": {},
     "source": [
      "For each superhero, extract the debut year from the infobox. Do all pages have a debut? Are there heroes with more than one debut year? How did handle invalid/missing data?"
     ]
    },
    {
     "cell_type": "markdown",
     "metadata": {},
     "source": [
      "Not all pages have debut, some have none, some have more than one. Missing ones can be skipped, for the ones with two or more, earliest one can be chosen."
     ]
    },
    {
     "cell_type": "code",
     "collapsed": false,
     "input": [
      "import os\n",
      "import operator\n",
      "import re\n",
      "\n",
      "path = os.path.join('heroes')\n",
      "files = os.listdir(path)\n",
      "year_of_introduction = dict()\n",
      "for file_element in files:\n",
      "    f = open(path + '/' + file_element).read()\n",
      "    match = re.search('{{Superherobox(.+?)(\\(\\w+? (\\d{4})\\))', f)\n",
      "    if match:\n",
      "        year = match.group(3)\n",
      "        file_element = file_element.replace(' (comics)', '')\n",
      "        file_element = file_element.replace('.json', '')\n",
      "        file_element = file_element.replace(' (Marvel Comics)', '')\n",
      "        if year in year_of_introduction:\n",
      "            year_of_introduction[year].append(file_element)\n",
      "        else:\n",
      "            year_of_introduction[year] = [file_element]\n",
      "year_of_introduction_count = dict()\n",
      "for key in year_of_introduction:\n",
      "    year_of_introduction_count[key] = len(year_of_introduction[key])\n",
      "\n",
      "sorted_year_of_introduction_count = sorted(year_of_introduction_count.items(), key=operator.itemgetter(0))\n",
      "year_list, number_of_heroes_introduced_list = map(list,zip(*sorted_year_of_introduction_count))"
     ],
     "language": "python",
     "metadata": {},
     "outputs": [],
     "prompt_number": 9
    },
    {
     "cell_type": "heading",
     "level": 6,
     "metadata": {},
     "source": [
      "Visualize the number of superheroes that were introduced by year."
     ]
    },
    {
     "cell_type": "code",
     "collapsed": false,
     "input": [
      "plt.scatter(year_list, number_of_heroes_introduced_list, alpha=0.5)\n",
      "plt.title(\"Heroes introduced by year\")\n",
      "plt.ylabel(\"Number\", size=20)\n",
      "plt.xlabel(\"Year\", size=20)\n",
      "plt.ylim(0, 25)\n",
      "plt.xlim(1940, 2015)\n",
      "plt.grid(True)\n",
      "plt.show()"
     ],
     "language": "python",
     "metadata": {},
     "outputs": [
      {
       "metadata": {},
       "output_type": "display_data",
       "png": "[encoded data removed]",
       "text": [
        "<matplotlib.figure.Figure at 0x7f862ff8d4e0>"
       ]
      }
     ],
     "prompt_number": 13
    },
    {
     "cell_type": "markdown",
     "metadata": {},
     "source": [
      "It can be seen that from 1960 on, the series has steadily introduced a few characters almost every year. After 1960 the number of characters introduced rises, with most characters on average introduced aroun 1980. The average has dropped slightly after 1990. There are also a few outliers with over 20 characters introduced in a single year."
     ]
    },
    {
     "cell_type": "heading",
     "level": 2,
     "metadata": {},
     "source": [
      "Exercise B5"
     ]
    },
    {
     "cell_type": "heading",
     "level": 6,
     "metadata": {},
     "source": [
      "Write a regex to match the values of the alliances field"
     ]
    },
    {
     "cell_type": "markdown",
     "metadata": {},
     "source": [
      "{{Superherobox.+?alliances=\\[\\[(.+?)\\]\\]"
     ]
    },
    {
     "cell_type": "heading",
     "level": 6,
     "metadata": {},
     "source": [
      "Count the number of members for each team."
     ]
    },
    {
     "cell_type": "code",
     "collapsed": false,
     "input": [
      "import os\n",
      "import operator\n",
      "import re\n",
      "\n",
      "path = os.path.join('heroes')\n",
      "files = os.listdir(path)\n",
      "teams = dict()\n",
      "for file_element in files:\n",
      "    f = open(path + '/' + file_element).read()\n",
      "    match = re.search('{{Superherobox.+?alliances=\\[\\[(.+?)\\]\\]', f)\n",
      "    if match:\n",
      "        alliance = match.group(1)\n",
      "        alliance = alliance.replace(' (comics)', '')\n",
      "        split = alliance.split('|')\n",
      "        if len(split) > 1:\n",
      "            alliance = split[1]\n",
      "        file_element = file_element.replace(' (comics)', '')\n",
      "        file_element = file_element.replace('.json', '')\n",
      "        file_element = file_element.replace(' (Marvel Comics)', '')\n",
      "        if alliance in teams:\n",
      "            teams[alliance].append(file_element)\n",
      "        else:\n",
      "            teams[alliance] = [file_element]\n",
      "teams_size = dict()\n",
      "for key in teams.keys():\n",
      "    teams_size[key] = len(teams[key])\n",
      "sorted_teams_size = sorted(teams_size.items(), key=operator.itemgetter(1))\n",
      "teams_names_list, teams_sizes_list = map(list,zip(*sorted_teams_size))"
     ],
     "language": "python",
     "metadata": {},
     "outputs": [],
     "prompt_number": 9
    },
    {
     "cell_type": "heading",
     "level": 6,
     "metadata": {},
     "source": [
      "Visualize the results"
     ]
    },
    {
     "cell_type": "code",
     "collapsed": false,
     "input": [
      "plt.hist(teams_sizes_list)\n",
      "plt.grid(True)\n",
      "plt.title(\"Histogram for number of teams of each size\")\n",
      "plt.xlabel(\"Team size\", size=20)\n",
      "plt.ylabel(\"Number of teams\", size=20)\n",
      "plt.xlim(1,12)\n",
      "plt.xticks(range(1,12))\n",
      "plt.show()"
     ],
     "language": "python",
     "metadata": {},
     "outputs": [
      {
       "metadata": {},
       "output_type": "display_data",
       "png": "[encoded data removed]",
       "text": [
        "<matplotlib.figure.Figure at 0x7fd2be401278>"
       ]
      }
     ],
     "prompt_number": 10
    },
    {
     "cell_type": "markdown",
     "metadata": {},
     "source": [
      "There are over 100 teams in total. Majority of teams are one-hero teams. A typical non-single member team has 2 or 3 members; larger teams (4 or 5 members) occur infrequently. A few large teams exist - of 7, 8 and 10 members."
     ]
    },
    {
     "cell_type": "heading",
     "level": 6,
     "metadata": {},
     "source": [
      "Are there any team names which are result of missing/wrong information?"
     ]
    },
    {
     "cell_type": "markdown",
     "metadata": {},
     "source": [
      "If team is missing, skipping the hero. Some pages show two teams. Further, problematic is that sometimes the team we want to extract is the one before the | character, sometimes it is the one after it. This can be worked around, though."
     ]
    }
   ],
   "metadata": {}
  }
 ]
}